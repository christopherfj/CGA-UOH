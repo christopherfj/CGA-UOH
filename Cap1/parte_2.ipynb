{
  "nbformat": 4,
  "nbformat_minor": 0,
  "metadata": {
    "colab": {
      "provenance": [],
      "authorship_tag": "ABX9TyMZD02qsRuxB8wCmTUNTcx4"
    },
    "kernelspec": {
      "name": "python3",
      "display_name": "Python 3"
    },
    "language_info": {
      "name": "python"
    }
  },
  "cells": [
    {
      "cell_type": "markdown",
      "source": [
        "#Repaso básico de python"
      ],
      "metadata": {
        "id": "Nt9L7h205YQX"
      }
    },
    {
      "cell_type": "code",
      "source": [
        "def suma(n1=-9, n2=2):\n",
        "    s = n1+n2\n",
        "    return s\n",
        "s = suma(10)\n",
        "print( s )\n",
        "#print(n1)"
      ],
      "metadata": {
        "colab": {
          "base_uri": "https://localhost:8080/"
        },
        "id": "k1KE7ve4b36V",
        "outputId": "0e3e18a0-08c3-43a2-a809-7306c1753c52"
      },
      "execution_count": null,
      "outputs": [
        {
          "output_type": "stream",
          "name": "stdout",
          "text": [
            "12\n"
          ]
        }
      ]
    },
    {
      "cell_type": "code",
      "source": [
        "f = lambda x,y:x+y\n",
        "f(10,2)"
      ],
      "metadata": {
        "colab": {
          "base_uri": "https://localhost:8080/"
        },
        "id": "2poS2i3Mdkb2",
        "outputId": "0c9703df-e5df-4bf7-a566-269e2ad82d15"
      },
      "execution_count": null,
      "outputs": [
        {
          "output_type": "execute_result",
          "data": {
            "text/plain": [
              "12"
            ]
          },
          "metadata": {},
          "execution_count": 10
        }
      ]
    },
    {
      "cell_type": "code",
      "source": [
        "#sobrecrga de operadores\n",
        "class Humano(object):\n",
        "    def __init__(self, nombre, edad): #constructor\n",
        "       self.nombre = nombre #atributo\n",
        "       self.edad = edad\n",
        "    def saludar(self, u='uoh'): #metodo\n",
        "        print(\"Hola. mi nombre es\", self.nombre)\n",
        "        print(\"Tengo\", self.edad)\n",
        "        print(u)\n",
        "    def __add__(self, otro): #sobrecarga de operador suma __add__\n",
        "        return self.edad+otro.edad\n",
        "\n",
        "humano1 = Humano(\"Ignacio\", 25)\n",
        "humano1.saludar()\n",
        "\n",
        "humano2 = Humano(\"Roberto\", 32)\n",
        "humano2.saludar()\n",
        "\n",
        "humano1+humano2 #esto es posible después de sobrecargar el operador suma"
      ],
      "metadata": {
        "colab": {
          "base_uri": "https://localhost:8080/"
        },
        "id": "TivNltiGeeH7",
        "outputId": "1567126a-1abe-4d53-ff4c-a54d191b3c90"
      },
      "execution_count": null,
      "outputs": [
        {
          "output_type": "stream",
          "name": "stdout",
          "text": [
            "Hola. mi nombre es Ignacio\n",
            "Tengo 25\n",
            "uoh\n",
            "Hola. mi nombre es Roberto\n",
            "Tengo 32\n",
            "uoh\n"
          ]
        },
        {
          "output_type": "execute_result",
          "data": {
            "text/plain": [
              "57"
            ]
          },
          "metadata": {},
          "execution_count": 24
        }
      ]
    },
    {
      "cell_type": "code",
      "source": [
        "import numpy as np\n",
        "\n",
        "array = np.array( [1,2,3,4] )\n",
        "matriz = np.ones((4,5))\n",
        "\n",
        "x,y = matriz.shape\n",
        "\n",
        "s = 0 #suma de todos los números de una matriz\n",
        "for i in range(x):\n",
        "    for j in range(y):\n",
        "        #s = s+matriz[i,j] #matriz[i][j]\n",
        "        s+=matriz[i,j] #forma abreviada\n",
        "print(s)\n"
      ],
      "metadata": {
        "colab": {
          "base_uri": "https://localhost:8080/"
        },
        "id": "YmCE6CbBjfVd",
        "outputId": "f853abe2-e1f5-4c7c-c698-3aabc6e6a8f6"
      },
      "execution_count": null,
      "outputs": [
        {
          "output_type": "stream",
          "name": "stdout",
          "text": [
            "20.0\n"
          ]
        }
      ]
    },
    {
      "cell_type": "code",
      "source": [
        "array.max()"
      ],
      "metadata": {
        "colab": {
          "base_uri": "https://localhost:8080/"
        },
        "id": "eZQHfOTHnOnn",
        "outputId": "299345e3-2300-4172-9d25-2a7f8a0a7704"
      },
      "execution_count": null,
      "outputs": [
        {
          "output_type": "execute_result",
          "data": {
            "text/plain": [
              "4"
            ]
          },
          "metadata": {},
          "execution_count": 46
        }
      ]
    },
    {
      "cell_type": "code",
      "source": [
        "[1]*5 #listas y arreglos producen distinto efecto con operaciones aritméticas"
      ],
      "metadata": {
        "colab": {
          "base_uri": "https://localhost:8080/"
        },
        "id": "eJgx44p7o5yN",
        "outputId": "e205b2ae-8722-47a8-c1ab-ff1d6e404cc9"
      },
      "execution_count": null,
      "outputs": [
        {
          "output_type": "execute_result",
          "data": {
            "text/plain": [
              "[1, 1, 1, 1, 1]"
            ]
          },
          "metadata": {},
          "execution_count": 58
        }
      ]
    },
    {
      "cell_type": "code",
      "source": [
        "#error\n",
        "#lista = [1,2,3,4]\n",
        "#lista+1"
      ],
      "metadata": {
        "id": "B6MF16DWk6lx"
      },
      "execution_count": null,
      "outputs": []
    },
    {
      "cell_type": "code",
      "source": [
        "#import numpy as np\n",
        "#np.max(array)\n",
        "\n",
        "from numpy import * #importar todo con *\n",
        "array2 = array( [1,2,3,4] )\n",
        "mean(array2)"
      ],
      "metadata": {
        "colab": {
          "base_uri": "https://localhost:8080/"
        },
        "id": "6_i7X_eynlXu",
        "outputId": "0c061659-0104-43ff-ce7b-27c97b1b181e"
      },
      "execution_count": null,
      "outputs": [
        {
          "output_type": "execute_result",
          "data": {
            "text/plain": [
              "2.5"
            ]
          },
          "metadata": {},
          "execution_count": 52
        }
      ]
    },
    {
      "cell_type": "code",
      "source": [
        "from matplotlib import pylab\n",
        "import matplotlib.pyplot as plt\n",
        "\n",
        "\n",
        "x = np.arange(10)\n",
        "y = x*10-1\n",
        "\n",
        "fig = pylab.figure(1, figsize=(10,10))\n",
        "pylab.title('Titulo')\n",
        "pylab.subplot(1,2,1)\n",
        "pylab.plot(x,y,'y')\n",
        "pylab.xlabel('X')\n",
        "pylab.ylabel('Y')\n",
        "pylab.grid(True)\n",
        "pylab.subplot(1,2,2)\n",
        "pylab.plot(x,y,'k')\n",
        "pylab.xlabel('X')\n",
        "pylab.ylabel('Y')\n",
        "pylab.grid(True)\n",
        "pylab.show()"
      ],
      "metadata": {
        "colab": {
          "base_uri": "https://localhost:8080/",
          "height": 661
        },
        "id": "5LSLW-VkoYWn",
        "outputId": "35fcfb42-63b3-4e59-ed80-fcad38ff5e74"
      },
      "execution_count": null,
      "outputs": [
        {
          "output_type": "stream",
          "name": "stderr",
          "text": [
            "<ipython-input-60-6ba01c26db2e>:10: MatplotlibDeprecationWarning: Auto-removal of overlapping axes is deprecated since 3.6 and will be removed two minor releases later; explicitly call ax.remove() as needed.\n",
            "  pylab.subplot(1,2,1)\n"
          ]
        },
        {
          "output_type": "display_data",
          "data": {
            "text/plain": [
              "<Figure size 720x720 with 2 Axes>"
            ],
            "image/png": "[encoded data removed]"
          },
          "metadata": {
            "needs_background": "light"
          }
        }
      ]
    }
  ]
}